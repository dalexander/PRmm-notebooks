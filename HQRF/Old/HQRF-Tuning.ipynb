{
 "cells": [
  {
   "cell_type": "code",
   "execution_count": 27,
   "metadata": {
    "collapsed": false
   },
   "outputs": [
    {
     "name": "stdout",
     "output_type": "stream",
     "text": [
      "[2 1 1 2 1 1 1 1 1 1 1 2 0 0 2 0 0 1 0 0 0 1 0 1 1 0 0 0 0 0 0 0 0 0 0 0 0\n",
      " 0 0 0 0 0 0 0 0 0 0 0 0 0 2 1 1 1 1 1 1 1 1 1 1 2 1 1 2 0 1 0 0 0 0 0 0 1\n",
      " 1 1 1 1 1 1 0 0 1 0 1 1 2 1 0 0 0 1 1 1 1 1 1 1 1 1 1 1 1 1 1 0 1 1 1 1 0\n",
      " 1 1 0 0 0 0 0 0 1 1 1 0 1 1 0 1 0 0 0 0 0 0 0 0 1 1 1 0 2 1 1 2 2 2 2 0 0\n",
      " 0 0 0 0 0 0 0 0 0 0 0 0 0 0 0 0 0 0 0 0 0 0 0 0 0 1 0 0 0 0 0 1 2 2 0 0 0\n",
      " 0 0 0 0 0 0 0 1 0 0 0 1 0 0 0 0 0 0 0 0 0 0 0 0 0 0 0 0 0 0 0 0 0 0 0 0 0\n",
      " 0 0 0 0 0 0 0 0 0 0 0 0 0 0 0 0 0 0 0 0 0 0 0 0 0 0 0 0 0 0 0 0 0 0 0 0 0\n",
      " 0 0 0 0 0 0 0 0 0 0 0 0 0 0 0 0 0 0 0 0 0 0 0]\n",
      "[0 0 0 0 0 0 0 0 0 0 0 0 0 0 0 0 0 0 0 0 0 0 0 0 0 0 0 0 0 0 0 0 0 0 0 0 0\n",
      " 0 0 0 0 0 0 0 0 0 0 0 0 0 0 0 0 0 0 0 0 0 0 0 0 0 0 0 0 0 0 0 0 0 0 0 0 0\n",
      " 0 0 0 0 0 0 0 0 0 0 0 0 0 0 0 0 0 0 0 0 0 0 0 0 0 0 0 0 0 0 0 0 0 0 0 0 0\n",
      " 0 0 0 0 0 0 0 0 0 0 0 0 0 0 0 0 0 0 0 0 0 0 0 0 0 0 0 0 0 0 0 0 0 0 0 1 2\n",
      " 2 2 2 2 2 2 2 2 2 2 2 2 2 2 2 2 2 2 2 2 2 2 2 2 2 2 2 2 2 2 2 2 2 2 2 2 2\n",
      " 2 2 2 2 2 2 2 2 2 2 2 2 2 2 2 2 2 2 2 2 2 2 2 2 2 2 2 2 2 2 2 2 2 2 2 2 2\n",
      " 2 2 2 2 2 2 2 2 2 2 2 2 2 2 2 2 2 2 2 2 2 2 2 2 2 2 2 2 2 2 2 2 2 2 2 2 2\n",
      " 2 2 2 2 2 2 2 2 2 2 2 2 2 2 2 2 2 2 2 2 2 2 2]\n",
      "(146, 147)\n"
     ]
    }
   ],
   "source": [
    "from PRmm.fixture import Fixture\n",
    "from PRmm.extras.hqrfHmm import loadBazViewerHDF5, findHQR, labelWindows\n",
    "\n",
    "metricsDf = loadBazViewerHDF5(\"/home/UNIXHOME/dalexander/Projects/Bugs/31434-TooMuchUnmappable/metrics.h5\")\n",
    "\n",
    "#hn = 11010466\n",
    "hn = 11010704  # improves, goes through 1 window of HQ\n",
    "hn = 11010946  # no improvement---NEED PW metric\n",
    "hn = 11075768  # no improvement----\"\"\n",
    "hn = 10944700  # I don't see how to do better here... we're getting a short lil hqr\n",
    "hn = 64226189  # Improved, single window HQR\n",
    "hn = 64226178  # Improved... maybe... would benefit from PW metric\n",
    "hn = 64226177\n",
    "\n",
    "\n",
    "print labelWindows(metricsDf, hn).ravel()\n",
    "hqStart, hqEnd = hqr = findHQR(labelWindows(metricsDf, hn))\n",
    "print hqr\n",
    "\n",
    "#print metricsDf[(hqStart <metricsDf.BlockNumber) & (metricsDf.ZmwNumber==11010704)]"
   ]
  },
  {
   "cell_type": "code",
   "execution_count": 19,
   "metadata": {
    "collapsed": false
   },
   "outputs": [
    {
     "data": {
      "text/plain": [
       "6"
      ]
     },
     "execution_count": 19,
     "metadata": {},
     "output_type": "execute_result"
    }
   ],
   "source": [
    "hqEnd"
   ]
  },
  {
   "cell_type": "code",
   "execution_count": 21,
   "metadata": {
    "collapsed": false
   },
   "outputs": [
    {
     "data": {
      "text/html": [
       "<div>\n",
       "<table border=\"1\" class=\"dataframe\">\n",
       "  <thead>\n",
       "    <tr style=\"text-align: right;\">\n",
       "      <th></th>\n",
       "      <th>BlockNumber</th>\n",
       "      <th>NUM_BASES</th>\n",
       "      <th>NUM_FRAMES</th>\n",
       "      <th>NUM_HALF_SANDWICHES</th>\n",
       "      <th>NUM_PULSES</th>\n",
       "      <th>NUM_PULSE_LABEL_STUTTERS</th>\n",
       "      <th>ZmwNumber</th>\n",
       "      <th>HalfSandwichRate</th>\n",
       "      <th>PulseRate</th>\n",
       "      <th>LabelStutterRate</th>\n",
       "    </tr>\n",
       "  </thead>\n",
       "  <tbody>\n",
       "    <tr>\n",
       "      <th>1694</th>\n",
       "      <td>2</td>\n",
       "      <td>63</td>\n",
       "      <td>4096</td>\n",
       "      <td>1</td>\n",
       "      <td>63</td>\n",
       "      <td>20</td>\n",
       "      <td>11010704</td>\n",
       "      <td>0.015873</td>\n",
       "      <td>1.230469</td>\n",
       "      <td>0.317460</td>\n",
       "    </tr>\n",
       "    <tr>\n",
       "      <th>1695</th>\n",
       "      <td>3</td>\n",
       "      <td>9</td>\n",
       "      <td>2048</td>\n",
       "      <td>0</td>\n",
       "      <td>9</td>\n",
       "      <td>3</td>\n",
       "      <td>11010704</td>\n",
       "      <td>0.000000</td>\n",
       "      <td>0.351562</td>\n",
       "      <td>0.333333</td>\n",
       "    </tr>\n",
       "    <tr>\n",
       "      <th>1696</th>\n",
       "      <td>4</td>\n",
       "      <td>44</td>\n",
       "      <td>4096</td>\n",
       "      <td>1</td>\n",
       "      <td>44</td>\n",
       "      <td>17</td>\n",
       "      <td>11010704</td>\n",
       "      <td>0.022727</td>\n",
       "      <td>0.859375</td>\n",
       "      <td>0.386364</td>\n",
       "    </tr>\n",
       "    <tr>\n",
       "      <th>1697</th>\n",
       "      <td>5</td>\n",
       "      <td>47</td>\n",
       "      <td>4096</td>\n",
       "      <td>0</td>\n",
       "      <td>47</td>\n",
       "      <td>18</td>\n",
       "      <td>11010704</td>\n",
       "      <td>0.000000</td>\n",
       "      <td>0.917969</td>\n",
       "      <td>0.382979</td>\n",
       "    </tr>\n",
       "  </tbody>\n",
       "</table>\n",
       "</div>"
      ],
      "text/plain": [
       "      BlockNumber  NUM_BASES  NUM_FRAMES  NUM_HALF_SANDWICHES  NUM_PULSES  \\\n",
       "1694            2         63        4096                    1          63   \n",
       "1695            3          9        2048                    0           9   \n",
       "1696            4         44        4096                    1          44   \n",
       "1697            5         47        4096                    0          47   \n",
       "\n",
       "      NUM_PULSE_LABEL_STUTTERS  ZmwNumber  HalfSandwichRate  PulseRate  \\\n",
       "1694                        20   11010704          0.015873   1.230469   \n",
       "1695                         3   11010704          0.000000   0.351562   \n",
       "1696                        17   11010704          0.022727   0.859375   \n",
       "1697                        18   11010704          0.000000   0.917969   \n",
       "\n",
       "      LabelStutterRate  \n",
       "1694          0.317460  \n",
       "1695          0.333333  \n",
       "1696          0.386364  \n",
       "1697          0.382979  "
      ]
     },
     "execution_count": 21,
     "metadata": {},
     "output_type": "execute_result"
    }
   ],
   "source": [
    "metricsDf[(metricsDf.BlockNumber >= hqStart) & (metricsDf.BlockNumber< hqEnd) & (metricsDf.ZmwNumber==11010704)]"
   ]
  },
  {
   "cell_type": "code",
   "execution_count": null,
   "metadata": {
    "collapsed": false
   },
   "outputs": [],
   "source": [
    "states"
   ]
  },
  {
   "cell_type": "code",
   "execution_count": null,
   "metadata": {
    "collapsed": false
   },
   "outputs": [],
   "source": [
    "list(states).index(1)"
   ]
  },
  {
   "cell_type": "code",
   "execution_count": null,
   "metadata": {
    "collapsed": true
   },
   "outputs": [],
   "source": [
    "ll = list(states)"
   ]
  },
  {
   "cell_type": "code",
   "execution_count": null,
   "metadata": {
    "collapsed": false
   },
   "outputs": [],
   "source": [
    "import numpy as np\n",
    "\n",
    "np.flatnonzero(states == 1)"
   ]
  },
  {
   "cell_type": "code",
   "execution_count": null,
   "metadata": {
    "collapsed": false
   },
   "outputs": [],
   "source": [
    "np.where(states==1)"
   ]
  },
  {
   "cell_type": "code",
   "execution_count": null,
   "metadata": {
    "collapsed": true
   },
   "outputs": [],
   "source": []
  }
 ],
 "metadata": {
  "kernelspec": {
   "display_name": "Python 2",
   "language": "python",
   "name": "python2"
  },
  "language_info": {
   "codemirror_mode": {
    "name": "ipython",
    "version": 2
   },
   "file_extension": ".py",
   "mimetype": "text/x-python",
   "name": "python",
   "nbconvert_exporter": "python",
   "pygments_lexer": "ipython2",
   "version": "2.7.5"
  }
 },
 "nbformat": 4,
 "nbformat_minor": 0
}
