{
 "cells": [
  {
   "cell_type": "code",
   "execution_count": 1,
   "metadata": {
    "collapsed": false
   },
   "outputs": [],
   "source": [
    "import numpy as np\n",
    "import pandas as pd\n",
    "from matplotlib import pyplot as plt\n",
    "import json\n",
    "import seaborn\n",
    "from os.path import join\n",
    "\n",
    "from PRmm.fixture import Fixture\n",
    "from PRmm.extras.hqrfHmm import *\n",
    "from PRmm.extras.activityPlots import *\n",
    "\n",
    "import tqdm\n",
    "from intervaltree import Interval\n",
    "\n",
    "%matplotlib inline"
   ]
  },
  {
   "cell_type": "code",
   "execution_count": null,
   "metadata": {
    "collapsed": false
   },
   "outputs": [],
   "source": [
    "df = loadBazViewerHDF5(\"/Users/dalexander/Data/m54012_160228_211932.metrics.h5\")\n",
    "hn0 = 10944718\n",
    "dfZ = df[df.ZmwNumber == hn0]\n",
    "D = DromedaryHQRegionFinder()\n",
    "E = EnhancedHQRegionFinder()\n",
    "\n",
    "\n",
    "dfi = df.set_index(\"ZmwNumber\")\n",
    "\n",
    "fx = Fixture.fromIniFile(\"/home/UNIXHOME/dalexander/Projects/Bugs/HQRF-echidna/RevertTransition/bcstream/fixtures.ini\", \"4\")\n"
   ]
  },
  {
   "cell_type": "code",
   "execution_count": null,
   "metadata": {
    "collapsed": false
   },
   "outputs": [],
   "source": [
    "# Tabulate a list of ZMWs where we have good alignments but end up with no HQR \n",
    "# with E (whereas we had one in D)\n",
    "\n",
    "def hqrIsEmpty(hqr):\n",
    "    s, e = hqr\n",
    "    return (e==s)\n",
    "\n",
    "hnsOfInterest = [ hn for hn in fx.holeNumbersWithAlignments[:1000]\n",
    "                  if (hqrIsEmpty(E.findHQRegion(df, hn)) and\n",
    "                      not hqrIsEmpty(fx[hn].baseRegions.hqRegion.extent) and\n",
    "                      sum(len(aln) for aln in fx[hn].alignments) > 500) ]                \n",
    "    "
   ]
  },
  {
   "cell_type": "code",
   "execution_count": null,
   "metadata": {
    "collapsed": false
   },
   "outputs": [],
   "source": [
    "from PRmm.extras.activityPlots import hdf5MetricsPlot\n",
    "from ipywidgets import *\n",
    "\n",
    "def plotMetricsP(hn):\n",
    "    z = fx[hn]\n",
    "    hdf5MetricsPlot(df, hn, fx)\n",
    "    print z.hqRegionSnr\n",
    "    print z.baseRegions.hqRegion, E.findHQRegion(df, hn)\n",
    "\n",
    "#hnsWithAln = fx.holeNumbersWithAlignments[:100]\n",
    "\n",
    "hnW = Select(description=\"Hole number:\",\n",
    "               options={ str(hn) : hn\n",
    "                         for hn in hnsOfInterest })\n",
    "\n",
    "interact(plotMetricsP, hn=hnW)\n"
   ]
  },
  {
   "cell_type": "code",
   "execution_count": null,
   "metadata": {
    "collapsed": true
   },
   "outputs": [],
   "source": []
  },
  {
   "cell_type": "code",
   "execution_count": null,
   "metadata": {
    "collapsed": false
   },
   "outputs": [],
   "source": [
    "def testDriveHqrf(fx, df, hqrf):\n",
    "    numMappableHQSubreads = 0\n",
    "    #numMappableHQBases = 0\n",
    "    #numUnmappableHQSubreads = 0\n",
    "    #numUnmappableHQBases = 0    \n",
    "    \n",
    "    # only looking in holes w/ alns for the moment...\n",
    "    #for hn in tqdm.tqdm(fx.holeNumbers):\n",
    "    for hn in tqdm.tqdm(fx.holeNumbersWithAlignments):\n",
    "        fxZ = fx[hn]\n",
    "        alnIntervals = [ Interval(*aln.extent) for aln in fxZ.baseRegions.alignments ]\n",
    "        dfZ = df.loc[hn]\n",
    "        hqInterval = Interval(*hqrf.findHQRegion(dfZ))        \n",
    "        \n",
    "        # Tabulate--mappable\n",
    "        for ai in alnIntervals:\n",
    "            if ai.overlaps(hqInterval):\n",
    "                numMappableHQSubreads += 1\n",
    "                \n",
    "    return numMappableHQSubreads\n",
    "                \n",
    "print testDriveHqrf(fx, dfi, D)\n",
    "print testDriveHqrf(fx, dfi, E)"
   ]
  },
  {
   "cell_type": "markdown",
   "metadata": {},
   "source": [
    "The above work was suggestive that the \"enhanced\" HQRF was viable again.  Indeed, it seems to be the case.  However we face a ~15% loss of mappable subreads.  Let's follow up and inspect those ZMWs for clues.\n",
    "\n",
    "### Next: follow up on lost yield\n"
   ]
  },
  {
   "cell_type": "code",
   "execution_count": 2,
   "metadata": {
    "collapsed": false
   },
   "outputs": [],
   "source": [
    "fx_dha = Fixture.fromIniFile(\n",
    "    \"/home/UNIXHOME/dalexander/Projects/Bugs/HQRF-echidna/RevertTransition/dha-vs-main.ini\",\n",
    "     \"dha\")\n",
    "fx_mainline = Fixture.fromIniFile(\n",
    "    \"/home/UNIXHOME/dalexander/Projects/Bugs/HQRF-echidna/RevertTransition/dha-vs-main.ini\",\n",
    "     \"mainline\")\n",
    "metricsDf = loadBazViewerHDF5(\"/home/UNIXHOME/dalexander/Projects/Bugs/HQRF-echidna/RevertTransition/dastream/Old/m54012_160228_211932.metrics.h5\")"
   ]
  },
  {
   "cell_type": "code",
   "execution_count": null,
   "metadata": {
    "collapsed": false
   },
   "outputs": [],
   "source": [
    "for hn in fx_mainline.holeNumbers[:500]:\n",
    "    alnCount_mainline = len(fx_mainline[hn].alignments)\n",
    "    alnCount_dha      = len(fx_dha[hn].alignments)\n",
    "    \n",
    "    if alnCount_dha < alnCount_mainline:\n",
    "        print hn, alnCount_mainline, alnCount_dha\n"
   ]
  },
  {
   "cell_type": "code",
   "execution_count": null,
   "metadata": {
    "collapsed": false
   },
   "outputs": [],
   "source": [
    "hdf5MetricsPlot(metricsDf, 11075779, fx_dha)"
   ]
  },
  {
   "cell_type": "code",
   "execution_count": null,
   "metadata": {
    "collapsed": false
   },
   "outputs": [],
   "source": [
    "title"
   ]
  },
  {
   "cell_type": "code",
   "execution_count": null,
   "metadata": {
    "collapsed": false
   },
   "outputs": [],
   "source": [
    "fxZ.alignments[0].isForwardStrand"
   ]
  },
  {
   "cell_type": "code",
   "execution_count": null,
   "metadata": {
    "collapsed": false
   },
   "outputs": [],
   "source": [
    "hn"
   ]
  },
  {
   "cell_type": "code",
   "execution_count": 4,
   "metadata": {
    "collapsed": false
   },
   "outputs": [
    {
     "data": {
      "text/plain": [
       "10214.4"
      ]
     },
     "execution_count": 4,
     "metadata": {},
     "output_type": "execute_result"
    }
   ],
   "source": [
    "fxZ = fx_dha[11075779]\n",
    "dfZ = metricsDf[metricsDf.ZmwNumber==11075779]\n",
    "\n",
    "([0] + list(np.cumsum(dfZ.NUM_FRAMES)))[200]/80.0"
   ]
  },
  {
   "cell_type": "code",
   "execution_count": null,
   "metadata": {
    "collapsed": false
   },
   "outputs": [],
   "source": [
    "fxZ.pulseStartFrame"
   ]
  },
  {
   "cell_type": "code",
   "execution_count": 16,
   "metadata": {
    "collapsed": false
   },
   "outputs": [
    {
     "name": "stdout",
     "output_type": "stream",
     "text": [
      "[ 24588  50730  51461  54627 174508 376015 376665 396846 409800 411974\n",
      " 496276 496286 523522 555807 643689 671448 671463 754124 759218 774379\n",
      " 793530 805373 805819 817871 830792 862800 866042 959796]\n",
      "[   307.3807505     634.18844449    643.3268587     682.9058182\n",
      "   2181.56824504   4700.65775585   4708.78356876   4961.07130774\n",
      "   5123.0125084    5150.19022727   6204.07065793   6204.19567044\n",
      "   6544.67973261   6948.28260922   8046.91751714   8393.93973339\n",
      "   8394.12725215   9427.49313052   9491.17450123   9680.70596204\n",
      "   9920.11741287  10068.16972409  10073.74528187  10224.41035447\n",
      "  10385.93901387  10786.07904405  10826.60809859  11998.65035021]\n"
     ]
    }
   ],
   "source": [
    "from PRmm.extras.activityPlots import isNearSandwich\n",
    "\n",
    "\n",
    "sw = isNearSandwich(fxZ.prePulseFrames, fxZ.pulseLabel)\n",
    "\n",
    "sf = fxZ.pulseStartFrame\n",
    "\n",
    "print sf[sw]\n",
    "\n",
    "print sf[sw]/fxZ.frameRate"
   ]
  },
  {
   "cell_type": "code",
   "execution_count": 8,
   "metadata": {
    "collapsed": false
   },
   "outputs": [
    {
     "data": {
      "text/plain": [
       "28"
      ]
     },
     "execution_count": 8,
     "metadata": {},
     "output_type": "execute_result"
    }
   ],
   "source": [
    "sum(sw)"
   ]
  },
  {
   "cell_type": "code",
   "execution_count": 10,
   "metadata": {
    "collapsed": false
   },
   "outputs": [
    {
     "data": {
      "text/plain": [
       "[<matplotlib.lines.Line2D at 0x110c00c90>]"
      ]
     },
     "execution_count": 10,
     "metadata": {},
     "output_type": "execute_result"
    },
    {
     "data": {
      "image/png": "[encoded data removed]",
      "text/plain": [
       "<matplotlib.figure.Figure at 0x11176c310>"
      ]
     },
     "metadata": {},
     "output_type": "display_data"
    }
   ],
   "source": [
    "plt.plot(sw)"
   ]
  },
  {
   "cell_type": "code",
   "execution_count": 15,
   "metadata": {
    "collapsed": false
   },
   "outputs": [
    {
     "data": {
      "text/plain": [
       "79.991997"
      ]
     },
     "execution_count": 15,
     "metadata": {},
     "output_type": "execute_result"
    }
   ],
   "source": [
    "fxZ.frameRate"
   ]
  },
  {
   "cell_type": "code",
   "execution_count": null,
   "metadata": {
    "collapsed": true
   },
   "outputs": [],
   "source": []
  }
 ],
 "metadata": {
  "kernelspec": {
   "display_name": "Python 2",
   "language": "python",
   "name": "python2"
  },
  "language_info": {
   "codemirror_mode": {
    "name": "ipython",
    "version": 2
   },
   "file_extension": ".py",
   "mimetype": "text/x-python",
   "name": "python",
   "nbconvert_exporter": "python",
   "pygments_lexer": "ipython2",
   "version": "2.7.5"
  }
 },
 "nbformat": 4,
 "nbformat_minor": 0
}
