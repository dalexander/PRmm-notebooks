{
 "cells": [
  {
   "cell_type": "code",
   "execution_count": 1,
   "metadata": {
    "collapsed": true
   },
   "outputs": [],
   "source": [
    "import numpy as np\n",
    "import pandas as pd\n",
    "from matplotlib import pyplot as plt\n",
    "import json\n",
    "import seaborn\n",
    "from os.path import join\n",
    "%matplotlib inline"
   ]
  },
  {
   "cell_type": "code",
   "execution_count": 3,
   "metadata": {
    "collapsed": false
   },
   "outputs": [],
   "source": [
    "# Take the X1E3 condition from a bunch of jobs that have it\n",
    "\n",
    "!mkFixture -n Low-SNR-Lambda  -j 259052 >  SNR-study.ini\n",
    "!mkFixture -n High-SNR-Lambda -j 258908 >> SNR-study.ini\n",
    "!mkFixture -n Low-SNR-Ecoli   -j 258883 >> SNR-study.ini\n",
    "!mkFixture -n High-SNR-Ecoli  -j 259065 >> SNR-study.ini"
   ]
  },
  {
   "cell_type": "code",
   "execution_count": null,
   "metadata": {
    "collapsed": false,
    "scrolled": true
   },
   "outputs": [],
   "source": [
    "# Non-portable way.  Fix this code to just use the fixture API\n",
    "\n",
    "def getDf(fx):\n",
    "    def getRecords():\n",
    "        hqHoles  = set(fx.basF.sequencingZmws)\n",
    "        alnHoles = set(fx.alnF.holeNumber)\n",
    "        for hn in sorted(hqHoles):\n",
    "            snr = fx.basF[hn].hqRegionSnr\n",
    "            hasAln = hn in alnHoles\n",
    "            yield hn, min(snr), hasAln\n",
    "    records = list(getRecords())\n",
    "    return pd.DataFrame.from_records(records, columns=(\"HoleNumber\", \"MinSNR\", \"Mappable\"))"
   ]
  },
  {
   "cell_type": "code",
   "execution_count": null,
   "metadata": {
    "collapsed": false,
    "scrolled": false
   },
   "outputs": [],
   "source": [
    "def makePlot(sectionName):\n",
    "    df = getDf(Fixture.fromIniFile(\"SNR-study.ini\", sectionName))\n",
    "    g = seaborn.FacetGrid(df, row=\"Mappable\", margin_titles=True, size=6)\n",
    "    bins = np.linspace(0, 10, 40)            \n",
    "    g.map(plt.hist, \"MinSNR\", bins=bins, color=\"steelblue\", lw=0)\n",
    "    g.fig.suptitle(sectionName, size=16)\n",
    "    \n",
    "    \n",
    "makePlot(\"Low-SNR-Lambda\")\n",
    "makePlot(\"High-SNR-Lambda\")\n",
    "makePlot(\"Low-SNR-Ecoli\")\n",
    "makePlot(\"High-SNR-Lambda\")\n"
   ]
  },
  {
   "cell_type": "code",
   "execution_count": null,
   "metadata": {
    "collapsed": false
   },
   "outputs": [],
   "source": []
  },
  {
   "cell_type": "code",
   "execution_count": null,
   "metadata": {
    "collapsed": false
   },
   "outputs": [],
   "source": [
    "lowSnrEcoli = "
   ]
  },
  {
   "cell_type": "code",
   "execution_count": null,
   "metadata": {
    "collapsed": true
   },
   "outputs": [],
   "source": [
    "import rpy2"
   ]
  },
  {
   "cell_type": "code",
   "execution_count": null,
   "metadata": {
    "collapsed": false
   },
   "outputs": [],
   "source": [
    "base.summary(df)"
   ]
  },
  {
   "cell_type": "code",
   "execution_count": null,
   "metadata": {
    "collapsed": true
   },
   "outputs": [],
   "source": []
  }
 ],
 "metadata": {
  "kernelspec": {
   "display_name": "Python 2",
   "language": "python",
   "name": "python2"
  },
  "language_info": {
   "codemirror_mode": {
    "name": "ipython",
    "version": 2
   },
   "file_extension": ".py",
   "mimetype": "text/x-python",
   "name": "python",
   "nbconvert_exporter": "python",
   "pygments_lexer": "ipython2",
   "version": "2.7.9"
  }
 },
 "nbformat": 4,
 "nbformat_minor": 0
}
