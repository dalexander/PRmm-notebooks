{
 "cells": [
  {
   "cell_type": "code",
   "execution_count": null,
   "metadata": {
    "collapsed": true
   },
   "outputs": [],
   "source": [
    "import numpy as np\n",
    "import pandas as pd\n",
    "from matplotlib import pyplot as plt\n",
    "import json\n",
    "import seaborn\n",
    "import os.path as op\n",
    "from pbcore.io import *\n",
    "%matplotlib inline"
   ]
  },
  {
   "cell_type": "code",
   "execution_count": null,
   "metadata": {
    "collapsed": false
   },
   "outputs": [],
   "source": [
    "import sys\n",
    "sys.path.append(\"/home/UNIXHOME/dalexander/Projects/rsync/PacBioWorkflows/Snakemake/CoverageTitration/\")"
   ]
  },
  {
   "cell_type": "code",
   "execution_count": null,
   "metadata": {
    "collapsed": false
   },
   "outputs": [],
   "source": [
    "from glob import glob\n",
    "from resolver import PacBioDataResolver\n",
    "pbls2 = PacBioDataResolver()\n",
    "\n",
    "def resolveReferenceSetForJob(jobId):\n",
    "    jobRoot = pbls2.resolveSecondaryJob(jobId)\n",
    "    entryPoints = json.load(open(join(jobRoot, \"workflow/entry-points.json\"), \"r\"))\n",
    "    refSetPath = entryPoints[\"eid_ref_dataset\"]\n",
    "    return refSetPath\n",
    "\n",
    "def resolveReferenceFastaForJob(jobId):\n",
    "    refSet = resolveReferenceSetForJob(jobId)\n",
    "    refName = op.basename(op.dirname(refSet))\n",
    "    return op.join(op.dirname(refSet), \"sequence\", refName + \".fasta\")    \n",
    "\n",
    "def resolveAlignmentSet(jobId):\n",
    "    jobRoot = pbls2.resolveSecondaryJob(jobId)\n",
    "    matches = glob(op.join(jobRoot, \"tasks/pbalign.tasks.consolidate_bam-0/*.alignmentset.xml\"))\n",
    "    assert len(matches) == 1\n",
    "    return matches[0]\n",
    "\n",
    "def fetchAlignmentSet(jobId):\n",
    "    return AlignmentSet(resolveAlignmentSet(jobId),\n",
    "                        referenceFastaFname=resolveReferenceFastaForJob(jobId))\n",
    "\n",
    "\n"
   ]
  },
  {
   "cell_type": "code",
   "execution_count": null,
   "metadata": {
    "collapsed": false
   },
   "outputs": [],
   "source": [
    "aset_4110 = fetchAlignmentSet(4110)"
   ]
  },
  {
   "cell_type": "code",
   "execution_count": null,
   "metadata": {
    "collapsed": false
   },
   "outputs": [],
   "source": [
    "len(set(aset_4110.index.holeNumber))"
   ]
  },
  {
   "cell_type": "code",
   "execution_count": 80,
   "metadata": {
    "collapsed": false
   },
   "outputs": [
    {
     "name": "stdout",
     "output_type": "stream",
     "text": [
      "1380.23773956\n",
      "5476.13276785\n"
     ]
    }
   ],
   "source": [
    "df = pd.DataFrame(aset_4110.index)\n",
    "\n",
    "# Aligned subread length\n",
    "print np.mean(df.aEnd - df.aStart)\n",
    "\n",
    "# Unrolled alignment length...\n",
    "dfg = df.groupby(df.holeNumber)\n",
    "print np.mean(dfg.aEnd.max() - dfg.aStart.min())"
   ]
  },
  {
   "cell_type": "code",
   "execution_count": 81,
   "metadata": {
    "collapsed": true
   },
   "outputs": [],
   "source": [
    "def globalPolymerizationRate(pulseStartFrame, frameRateHz=80.0):\n",
    "    pass\n",
    "\n",
    "def localPolymerizationRate(pulseStartFrame, frameRateHz=80.0):\n",
    "    pass"
   ]
  },
  {
   "cell_type": "code",
   "execution_count": null,
   "metadata": {
    "collapsed": false
   },
   "outputs": [],
   "source": []
  },
  {
   "cell_type": "code",
   "execution_count": null,
   "metadata": {
    "collapsed": false
   },
   "outputs": [],
   "source": []
  },
  {
   "cell_type": "code",
   "execution_count": null,
   "metadata": {
    "collapsed": false
   },
   "outputs": [],
   "source": [
    "dfg."
   ]
  },
  {
   "cell_type": "code",
   "execution_count": 82,
   "metadata": {
    "collapsed": false
   },
   "outputs": [
    {
     "data": {
      "text/plain": [
       "True"
      ]
     },
     "execution_count": 82,
     "metadata": {},
     "output_type": "execute_result"
    }
   ],
   "source": [
    "isinstance(\"\", str)"
   ]
  },
  {
   "cell_type": "code",
   "execution_count": null,
   "metadata": {
    "collapsed": true
   },
   "outputs": [],
   "source": []
  }
 ],
 "metadata": {
  "kernelspec": {
   "display_name": "Python 2",
   "language": "python",
   "name": "python2"
  },
  "language_info": {
   "codemirror_mode": {
    "name": "ipython",
    "version": 2
   },
   "file_extension": ".py",
   "mimetype": "text/x-python",
   "name": "python",
   "nbconvert_exporter": "python",
   "pygments_lexer": "ipython2",
   "version": "2.7.5"
  }
 },
 "nbformat": 4,
 "nbformat_minor": 0
}
